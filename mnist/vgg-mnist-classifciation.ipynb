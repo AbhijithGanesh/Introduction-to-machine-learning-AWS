{
  "cells": [
    {
      "attachments": {},
      "cell_type": "markdown",
      "metadata": {},
      "source": [
        "# Udacity - Introduction to Machine Learning Course\n",
        "## Submitted by Abhijith Ganesh\n",
        "\n",
        "<hr/>\n",
        "\n",
        "### Recommended approach\n",
        "Using a Convoluted Neural Network and TL based on VGG19 (Weights of Imagenet)\n",
        "\n",
        "Use torchvision to classify hand written characters and identify them! Classic MNIST"
      ]
    },
    {
      "cell_type": "code",
      "execution_count": 1,
      "metadata": {
        "gather": {
          "logged": 1684863173282
        }
      },
      "outputs": [
        {
          "name": "stderr",
          "output_type": "stream",
          "text": [
            "/anaconda/envs/azureml_py38_PT_TF/lib/python3.8/site-packages/tqdm/auto.py:21: TqdmWarning: IProgress not found. Please update jupyter and ipywidgets. See https://ipywidgets.readthedocs.io/en/stable/user_install.html\n",
            "  from .autonotebook import tqdm as notebook_tqdm\n"
          ]
        }
      ],
      "source": [
        "from torchvision.datasets import MNIST\n",
        "from torch.utils.data import DataLoader, random_split\n",
        "from torchvision import transforms\n",
        "import matplotlib.pyplot as plt\n",
        "from torchvision.models import  VGG19_Weights, vgg19\n",
        "from datetime import datetime\n",
        "from torch.optim import Adam\n",
        "from torch import nn, save, no_grad, max\n",
        "import random\n",
        "\n",
        "batch_size = 16\n",
        "learning_rate = 10**(-3)\n",
        "num_epochs = 5"
      ]
    },
    {
      "attachments": {},
      "cell_type": "markdown",
      "metadata": {},
      "source": [
        "## Setting Constants for the experiment\n",
        "\n",
        "<hr/>\n",
        "\n",
        "Setting values like batch_size, number of epochs and learning rate"
      ]
    },
    {
      "cell_type": "code",
      "execution_count": 2,
      "metadata": {
        "gather": {
          "logged": 1684863173602
        }
      },
      "outputs": [],
      "source": [
        "def set_constants(batch_size: int, learning_rate: float, number_of_epochs: int) -> tuple:\n",
        "    batch_size = batch_size\n",
        "    learning_rate = learning_rate\n",
        "    no_of_epochs = number_of_epochs\n",
        "\n",
        "    return (batch_size, learning_rate, no_of_epochs)"
      ]
    },
    {
      "attachments": {},
      "cell_type": "markdown",
      "metadata": {},
      "source": [
        "## Transformers and Loaders\n",
        "<hr/>\n",
        "\n",
        "### Addition of data and loaders\n",
        "\n",
        "\n",
        "Change the download boolean to download. You can set the path according to your setup!\n",
        "\n",
        "```python\n",
        "image_dataset = MNIST(root=f'{YOUR_PATH_NAME}', train=True, download=True)\n",
        "```\n",
        "\n",
        "### Transformers:\n",
        "I've resized it to 224x224 as VGG19 uses this dimension\n"
      ]
    },
    {
      "cell_type": "code",
      "execution_count": 3,
      "metadata": {
        "gather": {
          "logged": 1684863174335
        }
      },
      "outputs": [
        {
          "data": {
            "text/plain": [
              "<matplotlib.image.AxesImage at 0x7f3fe707fb80>"
            ]
          },
          "execution_count": 3,
          "metadata": {},
          "output_type": "execute_result"
        },
        {
          "data": {
            "image/png": "[encoded data removed]",
            "text/plain": [
              "<Figure size 640x480 with 1 Axes>"
            ]
          },
          "metadata": {},
          "output_type": "display_data"
        }
      ],
      "source": [
        "im_show_transformer = transforms.Compose([\n",
        "    transforms.Grayscale(num_output_channels=1),    \n",
        "    transforms.ToTensor(),\n",
        "    transforms.Resize([224, 224]),\n",
        "    transforms.Normalize(mean=[0.5], std=[0.5]) \n",
        "])\n",
        "image_dataset = MNIST(root='./data', train=True, download=True, transform=im_show_transformer)\n",
        "split = 0.8\n",
        "\n",
        "train_len = int(len(image_dataset)*split*0.5)\n",
        "test_len  = len(image_dataset) - 2*train_len\n",
        "\n",
        "train_set, valid_set, test_set = random_split(image_dataset, [train_len, train_len, test_len])\n",
        "\n",
        "plt.imshow(train_set.dataset.data[random.randrange(1, len(train_set))], cmap='gray')"
      ]
    },
    {
      "cell_type": "code",
      "execution_count": 4,
      "metadata": {
        "gather": {
          "logged": 1684863174703
        }
      },
      "outputs": [],
      "source": [
        "train_loader = DataLoader(train_set, batch_size=batch_size, shuffle=True)\n",
        "test_loader = DataLoader(test_set, batch_size=batch_size, shuffle=True)\n",
        "valid_loader = DataLoader(valid_set, batch_size=batch_size, shuffle=True)"
      ]
    },
    {
      "attachments": {},
      "cell_type": "markdown",
      "metadata": {},
      "source": [
        "## Using VGG 19"
      ]
    },
    {
      "cell_type": "code",
      "execution_count": 5,
      "metadata": {
        "gather": {
          "logged": 1684863175589
        }
      },
      "outputs": [
        {
          "name": "stderr",
          "output_type": "stream",
          "text": [
            "/anaconda/envs/azureml_py38_PT_TF/lib/python3.8/site-packages/torchvision/models/_utils.py:223: UserWarning: Arguments other than a weight enum or `None` for 'weights' are deprecated since 0.13 and will be removed in 0.15. The current behavior is equivalent to passing `weights=VGG19_Weights.IMAGENET1K_V1`. You can also use `weights=VGG19_Weights.DEFAULT` to get the most up-to-date weights.\n",
            "  warnings.warn(msg)\n"
          ]
        }
      ],
      "source": [
        "model = vgg19(weights=VGG19_Weights)\n",
        "in_features = model.classifier[6].in_features\n",
        "model.features[0] = nn.Conv2d(\n",
        "    1, 64, kernel_size = 3, stride=1, padding=1\n",
        ")\n",
        "model.classifier[6] = nn.Linear(\n",
        "    in_features,\n",
        "    10\n",
        ")"
      ]
    },
    {
      "cell_type": "code",
      "execution_count": 6,
      "metadata": {
        "gather": {
          "logged": 1684863175963
        }
      },
      "outputs": [
        {
          "data": {
            "text/plain": [
              "VGG(\n",
              "  (features): Sequential(\n",
              "    (0): Conv2d(1, 64, kernel_size=(3, 3), stride=(1, 1), padding=(1, 1))\n",
              "    (1): ReLU(inplace=True)\n",
              "    (2): Conv2d(64, 64, kernel_size=(3, 3), stride=(1, 1), padding=(1, 1))\n",
              "    (3): ReLU(inplace=True)\n",
              "    (4): MaxPool2d(kernel_size=2, stride=2, padding=0, dilation=1, ceil_mode=False)\n",
              "    (5): Conv2d(64, 128, kernel_size=(3, 3), stride=(1, 1), padding=(1, 1))\n",
              "    (6): ReLU(inplace=True)\n",
              "    (7): Conv2d(128, 128, kernel_size=(3, 3), stride=(1, 1), padding=(1, 1))\n",
              "    (8): ReLU(inplace=True)\n",
              "    (9): MaxPool2d(kernel_size=2, stride=2, padding=0, dilation=1, ceil_mode=False)\n",
              "    (10): Conv2d(128, 256, kernel_size=(3, 3), stride=(1, 1), padding=(1, 1))\n",
              "    (11): ReLU(inplace=True)\n",
              "    (12): Conv2d(256, 256, kernel_size=(3, 3), stride=(1, 1), padding=(1, 1))\n",
              "    (13): ReLU(inplace=True)\n",
              "    (14): Conv2d(256, 256, kernel_size=(3, 3), stride=(1, 1), padding=(1, 1))\n",
              "    (15): ReLU(inplace=True)\n",
              "    (16): Conv2d(256, 256, kernel_size=(3, 3), stride=(1, 1), padding=(1, 1))\n",
              "    (17): ReLU(inplace=True)\n",
              "    (18): MaxPool2d(kernel_size=2, stride=2, padding=0, dilation=1, ceil_mode=False)\n",
              "    (19): Conv2d(256, 512, kernel_size=(3, 3), stride=(1, 1), padding=(1, 1))\n",
              "    (20): ReLU(inplace=True)\n",
              "    (21): Conv2d(512, 512, kernel_size=(3, 3), stride=(1, 1), padding=(1, 1))\n",
              "    (22): ReLU(inplace=True)\n",
              "    (23): Conv2d(512, 512, kernel_size=(3, 3), stride=(1, 1), padding=(1, 1))\n",
              "    (24): ReLU(inplace=True)\n",
              "    (25): Conv2d(512, 512, kernel_size=(3, 3), stride=(1, 1), padding=(1, 1))\n",
              "    (26): ReLU(inplace=True)\n",
              "    (27): MaxPool2d(kernel_size=2, stride=2, padding=0, dilation=1, ceil_mode=False)\n",
              "    (28): Conv2d(512, 512, kernel_size=(3, 3), stride=(1, 1), padding=(1, 1))\n",
              "    (29): ReLU(inplace=True)\n",
              "    (30): Conv2d(512, 512, kernel_size=(3, 3), stride=(1, 1), padding=(1, 1))\n",
              "    (31): ReLU(inplace=True)\n",
              "    (32): Conv2d(512, 512, kernel_size=(3, 3), stride=(1, 1), padding=(1, 1))\n",
              "    (33): ReLU(inplace=True)\n",
              "    (34): Conv2d(512, 512, kernel_size=(3, 3), stride=(1, 1), padding=(1, 1))\n",
              "    (35): ReLU(inplace=True)\n",
              "    (36): MaxPool2d(kernel_size=2, stride=2, padding=0, dilation=1, ceil_mode=False)\n",
              "  )\n",
              "  (avgpool): AdaptiveAvgPool2d(output_size=(7, 7))\n",
              "  (classifier): Sequential(\n",
              "    (0): Linear(in_features=25088, out_features=4096, bias=True)\n",
              "    (1): ReLU(inplace=True)\n",
              "    (2): Dropout(p=0.5, inplace=False)\n",
              "    (3): Linear(in_features=4096, out_features=4096, bias=True)\n",
              "    (4): ReLU(inplace=True)\n",
              "    (5): Dropout(p=0.5, inplace=False)\n",
              "    (6): Linear(in_features=4096, out_features=10, bias=True)\n",
              "  )\n",
              ")"
            ]
          },
          "execution_count": 6,
          "metadata": {},
          "output_type": "execute_result"
        }
      ],
      "source": [
        "model"
      ]
    },
    {
      "cell_type": "code",
      "execution_count": 7,
      "metadata": {
        "gather": {
          "logged": 1684863176283
        }
      },
      "outputs": [],
      "source": [
        "def set_loss_function():\n",
        "    return nn.CrossEntropyLoss()\n",
        "\n",
        "def set_optimizer(params, learning_rate):\n",
        "    return Adam(params, lr = learning_rate)"
      ]
    },
    {
      "cell_type": "code",
      "execution_count": 8,
      "metadata": {
        "gather": {
          "logged": 1684863176713
        }
      },
      "outputs": [],
      "source": [
        "optimizer = set_optimizer(model.parameters(), learning_rate)\n",
        "criterion = set_loss_function()"
      ]
    },
    {
      "attachments": {},
      "cell_type": "markdown",
      "metadata": {},
      "source": [
        "## Defining the validation function"
      ]
    },
    {
      "cell_type": "code",
      "execution_count": 9,
      "metadata": {
        "gather": {
          "logged": 1684863177067
        }
      },
      "outputs": [],
      "source": [
        "def validate_model(model, validation_loader) -> int:\n",
        "    model.eval()\n",
        "\n",
        "    total: int = 0\n",
        "    correct: int = 0\n",
        "\n",
        "    with no_grad():  # Disable gradient calculation during validation\n",
        "        for images, labels in validation_loader:\n",
        "            \n",
        "            outputs = model(images)\n",
        "            _, predicted = max(outputs.data, 1)\n",
        "\n",
        "            total += labels.size(0)\n",
        "            correct += (predicted == labels).sum().item()\n",
        "\n",
        "            print(correct)\n",
        "\n",
        "    accuracy = 100 * correct / total\n",
        "    return accuracy"
      ]
    },
    {
      "attachments": {},
      "cell_type": "markdown",
      "metadata": {},
      "source": [
        "## Training the model"
      ]
    },
    {
      "cell_type": "code",
      "execution_count": 10,
      "metadata": {},
      "outputs": [
        {
          "name": "stdout",
          "output_type": "stream",
          "text": [
            "Starting with the training process 2023-05-23 17:33:22.304562\n"
          ]
        }
      ],
      "source": [
        "total_loss = 0\n",
        "\n",
        "for epochs in range(num_epochs):\n",
        "    iterations = 0\n",
        "    model.train()\n",
        "    \n",
        "    print(f\"Starting with the training process {datetime.now()}\")\n",
        "\n",
        "    for images, labels in train_loader:     \n",
        "        iterations += 1\n",
        "\n",
        "        outputs = model(images)\n",
        "        loss = criterion(outputs, labels)\n",
        "\n",
        "       \n",
        "        loss.backward()\n",
        "        optimizer.step()\n",
        "       \n",
        "        optimizer.zero_grad()\n",
        "        total_loss += loss.item()\n",
        "\n",
        "    avg_loss = total_loss / len(train_loader)\n",
        "    print(f\"Epoch [{epochs+1}/{num_epochs}], Average Loss: {avg_loss} at time {datetime.now()}\")\n",
        "\n",
        "    with no_grad():\n",
        "        accuracy = validate_model(model, valid_loader)\n",
        "        print(f\"At Epoch [{epochs+1}/{num_epochs}], Accuracy is {accuracy}\")"
      ]
    },
    {
      "attachments": {},
      "cell_type": "markdown",
      "metadata": {},
      "source": [
        "## Add fields to store important values\n",
        "\n",
        "\n",
        "As a ML engineer, I'd prefer storing the data of the following :\n",
        "- Model (Obviously)\n",
        "- Optimizer\n",
        "- Batch Size\n",
        "- Loss Criterion"
      ]
    },
    {
      "cell_type": "code",
      "execution_count": null,
      "metadata": {},
      "outputs": [],
      "source": [
        "def generate_custom_dict(model, optimizer, loss_criterion, batch_size = batch_size) -> dict:\n",
        "    custom_dictionary = {\n",
        "        \"model\": model.state_dict(),\n",
        "        \"optimizer\": optimizer.state_dict(),\n",
        "        \"loss\": loss_criterion,\n",
        "        \"hyperparameters\": {\n",
        "            \"batch_size\":batch_size\n",
        "        }\n",
        "    }\n",
        "    return custom_dictionary\n",
        "\n",
        "custom_dict = generate_custom_dict(model, optimizer, criterion)"
      ]
    },
    {
      "attachments": {},
      "cell_type": "markdown",
      "metadata": {},
      "source": [
        "## Saving the file to VGG binary\n",
        "\n",
        "<hr/>\n",
        "\n",
        "```python\n",
        "def save_model(path:str):\n",
        "    torch.save(model.state_dict(), path)\n",
        "```"
      ]
    },
    {
      "cell_type": "code",
      "execution_count": null,
      "metadata": {},
      "outputs": [],
      "source": [
        "def save_model(custom_dict:dict, path:str):\n",
        "    save(custom_dict, path)"
      ]
    },
    {
      "cell_type": "code",
      "execution_count": null,
      "metadata": {},
      "outputs": [],
      "source": [
        "save_model(custom_dict, f'vgg-19-{datetime.now().strftime(f\"%d_%m_%y_____%H_%M_%S\")}.pth')"
      ]
    }
  ],
  "metadata": {
    "kernelspec": {
      "display_name": "Python 3.8 - Pytorch and Tensorflow",
      "language": "python",
      "name": "python38-azureml-pt-tf"
    },
    "language_info": {
      "codemirror_mode": {
        "name": "ipython",
        "version": 3
      },
      "file_extension": ".py",
      "mimetype": "text/x-python",
      "name": "python",
      "nbconvert_exporter": "python",
      "pygments_lexer": "ipython3",
      "version": "3.8.5"
    },
    "microsoft": {
      "ms_spell_check": {
        "ms_spell_check_language": "en"
      }
    },
    "nteract": {
      "version": "nteract-front-end@1.0.0"
    }
  },
  "nbformat": 4,
  "nbformat_minor": 4
}
